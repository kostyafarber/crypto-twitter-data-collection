{
 "cells": [
  {
   "cell_type": "code",
   "execution_count": 80,
   "source": [
    "%reload_ext autoreload\n",
    "%autoreload 2\n",
    "\n",
    "import os\n",
    "import pandas as pd\n",
    "from tsfresh import extract_features\n",
    "from glob import glob\n",
    "from helper_functions import read_pickle\n",
    "\n",
    "import matplotlib.pyplot as plt\n",
    "plt.rcParams['figure.figsize'] = (20, 10)\n"
   ],
   "outputs": [],
   "metadata": {}
  },
  {
   "cell_type": "code",
   "execution_count": 70,
   "source": [
    "files = glob(\"data/*.pkl\")"
   ],
   "outputs": [],
   "metadata": {}
  },
  {
   "cell_type": "code",
   "execution_count": 81,
   "source": [
    "ethbtc = read_pickle(files[0])"
   ],
   "outputs": [
    {
     "output_type": "stream",
     "name": "stdout",
     "text": [
      "Reading ETHBTC-aggTrades-2019-09.pkl...\n",
      "\n",
      "ETHBTC-aggTrades-2019-09.pkl imported.\n",
      "\n",
      "ETHBTC-aggTrades-2019-09.pkl has 3450752 rows and 8 columns.\n"
     ]
    }
   ],
   "metadata": {}
  },
  {
   "cell_type": "code",
   "execution_count": 82,
   "source": [
    "ethbtc.head()"
   ],
   "outputs": [],
   "metadata": {}
  }
 ],
 "metadata": {
  "orig_nbformat": 4,
  "language_info": {
   "version": "3.9.7",
   "pygments_lexer": "ipython3",
   "codemirror_mode": {
    "version": 3,
    "name": "ipython"
   },
   "mimetype": "text/x-python",
   "name": "python",
   "nbconvert_exporter": "python",
   "file_extension": ".py"
  },
  "kernelspec": {
   "name": "python3",
   "display_name": "Python 3.9.7 64-bit ('trading': conda)"
  },
  "interpreter": {
   "hash": "d82a3c014a7367ee59d24b1ecd6735be8e5ab3b13285205b18509527958b2b9a"
  }
 },
 "nbformat": 4,
 "nbformat_minor": 2
}