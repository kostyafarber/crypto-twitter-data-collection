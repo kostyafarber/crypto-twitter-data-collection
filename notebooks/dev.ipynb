{
 "cells": [
  {
   "cell_type": "code",
   "execution_count": 92,
   "source": [
    "%reload_ext autoreload\n",
    "%autoreload 2\n",
    "\n",
    "import os\n",
    "import pandas as pd\n",
    "from tsfresh import extract_features\n",
    "from glob import glob\n",
    "from helper_functions import read_pickle\n",
    "import talib\n",
    "\n",
    "import matplotlib.pyplot as plt\n",
    "plt.rcParams['figure.figsize'] = (20, 10)\n"
   ],
   "outputs": [],
   "metadata": {}
  },
  {
   "cell_type": "code",
   "execution_count": 70,
   "source": [
    "files = glob(\"data/*.pkl\")"
   ],
   "outputs": [],
   "metadata": {}
  },
  {
   "cell_type": "code",
   "execution_count": 81,
   "source": [
    "ethbtc = read_pickle(files[0])"
   ],
   "outputs": [
    {
     "output_type": "stream",
     "name": "stdout",
     "text": [
      "Reading ETHBTC-aggTrades-2019-09.pkl...\n",
      "\n",
      "ETHBTC-aggTrades-2019-09.pkl imported.\n",
      "\n",
      "ETHBTC-aggTrades-2019-09.pkl has 3450752 rows and 8 columns.\n"
     ]
    }
   ],
   "metadata": {}
  },
  {
   "cell_type": "code",
   "execution_count": 82,
   "source": [
    "ethbtc.head()"
   ],
   "outputs": [
    {
     "output_type": "execute_result",
     "data": {
      "text/html": [
       "<div>\n",
       "<style scoped>\n",
       "    .dataframe tbody tr th:only-of-type {\n",
       "        vertical-align: middle;\n",
       "    }\n",
       "\n",
       "    .dataframe tbody tr th {\n",
       "        vertical-align: top;\n",
       "    }\n",
       "\n",
       "    .dataframe thead th {\n",
       "        text-align: right;\n",
       "    }\n",
       "</style>\n",
       "<table border=\"1\" class=\"dataframe\">\n",
       "  <thead>\n",
       "    <tr style=\"text-align: right;\">\n",
       "      <th></th>\n",
       "      <th>Aggregate tradeId</th>\n",
       "      <th>Price</th>\n",
       "      <th>Quantity</th>\n",
       "      <th>First TradeId</th>\n",
       "      <th>Last tradeId</th>\n",
       "      <th>Was the buyer the maker?</th>\n",
       "      <th>Was the trade the best price match?</th>\n",
       "      <th>Dollar Bars</th>\n",
       "    </tr>\n",
       "    <tr>\n",
       "      <th>Timestamp</th>\n",
       "      <th></th>\n",
       "      <th></th>\n",
       "      <th></th>\n",
       "      <th></th>\n",
       "      <th></th>\n",
       "      <th></th>\n",
       "      <th></th>\n",
       "      <th></th>\n",
       "    </tr>\n",
       "  </thead>\n",
       "  <tbody>\n",
       "    <tr>\n",
       "      <th>2019-09-01 00:00:00.332</th>\n",
       "      <td>128418706</td>\n",
       "      <td>0.017892</td>\n",
       "      <td>0.898</td>\n",
       "      <td>141149764</td>\n",
       "      <td>141149765</td>\n",
       "      <td>True</td>\n",
       "      <td>True</td>\n",
       "      <td>0.016067</td>\n",
       "    </tr>\n",
       "    <tr>\n",
       "      <th>2019-09-01 00:00:00.847</th>\n",
       "      <td>128418707</td>\n",
       "      <td>0.017895</td>\n",
       "      <td>1.575</td>\n",
       "      <td>141149766</td>\n",
       "      <td>141149766</td>\n",
       "      <td>True</td>\n",
       "      <td>True</td>\n",
       "      <td>0.028185</td>\n",
       "    </tr>\n",
       "    <tr>\n",
       "      <th>2019-09-01 00:00:00.930</th>\n",
       "      <td>128418708</td>\n",
       "      <td>0.017897</td>\n",
       "      <td>0.073</td>\n",
       "      <td>141149767</td>\n",
       "      <td>141149767</td>\n",
       "      <td>False</td>\n",
       "      <td>True</td>\n",
       "      <td>0.001306</td>\n",
       "    </tr>\n",
       "    <tr>\n",
       "      <th>2019-09-01 00:00:02.842</th>\n",
       "      <td>128418709</td>\n",
       "      <td>0.017891</td>\n",
       "      <td>0.018</td>\n",
       "      <td>141149768</td>\n",
       "      <td>141149768</td>\n",
       "      <td>True</td>\n",
       "      <td>True</td>\n",
       "      <td>0.000322</td>\n",
       "    </tr>\n",
       "    <tr>\n",
       "      <th>2019-09-01 00:00:03.771</th>\n",
       "      <td>128418710</td>\n",
       "      <td>0.017896</td>\n",
       "      <td>0.018</td>\n",
       "      <td>141149769</td>\n",
       "      <td>141149769</td>\n",
       "      <td>False</td>\n",
       "      <td>True</td>\n",
       "      <td>0.000322</td>\n",
       "    </tr>\n",
       "  </tbody>\n",
       "</table>\n",
       "</div>"
      ],
      "text/plain": [
       "                         Aggregate tradeId     Price  Quantity  First TradeId  \\\n",
       "Timestamp                                                                       \n",
       "2019-09-01 00:00:00.332          128418706  0.017892     0.898      141149764   \n",
       "2019-09-01 00:00:00.847          128418707  0.017895     1.575      141149766   \n",
       "2019-09-01 00:00:00.930          128418708  0.017897     0.073      141149767   \n",
       "2019-09-01 00:00:02.842          128418709  0.017891     0.018      141149768   \n",
       "2019-09-01 00:00:03.771          128418710  0.017896     0.018      141149769   \n",
       "\n",
       "                         Last tradeId  Was the buyer the maker?  \\\n",
       "Timestamp                                                         \n",
       "2019-09-01 00:00:00.332     141149765                      True   \n",
       "2019-09-01 00:00:00.847     141149766                      True   \n",
       "2019-09-01 00:00:00.930     141149767                     False   \n",
       "2019-09-01 00:00:02.842     141149768                      True   \n",
       "2019-09-01 00:00:03.771     141149769                     False   \n",
       "\n",
       "                         Was the trade the best price match?  Dollar Bars  \n",
       "Timestamp                                                                  \n",
       "2019-09-01 00:00:00.332                                 True     0.016067  \n",
       "2019-09-01 00:00:00.847                                 True     0.028185  \n",
       "2019-09-01 00:00:00.930                                 True     0.001306  \n",
       "2019-09-01 00:00:02.842                                 True     0.000322  \n",
       "2019-09-01 00:00:03.771                                 True     0.000322  "
      ]
     },
     "metadata": {},
     "execution_count": 82
    }
   ],
   "metadata": {}
  },
  {
   "cell_type": "code",
   "execution_count": 83,
   "source": [
    "ethbtc['id'] = 1"
   ],
   "outputs": [],
   "metadata": {}
  }
 ],
 "metadata": {
  "orig_nbformat": 4,
  "language_info": {
   "version": "3.9.7",
   "pygments_lexer": "ipython3",
   "codemirror_mode": {
    "version": 3,
    "name": "ipython"
   },
   "mimetype": "text/x-python",
   "name": "python",
   "nbconvert_exporter": "python",
   "file_extension": ".py"
  },
  "kernelspec": {
   "name": "python3",
   "display_name": "Python 3.9.7 64-bit ('trading': conda)"
  },
  "interpreter": {
   "hash": "d82a3c014a7367ee59d24b1ecd6735be8e5ab3b13285205b18509527958b2b9a"
  }
 },
 "nbformat": 4,
 "nbformat_minor": 2
}